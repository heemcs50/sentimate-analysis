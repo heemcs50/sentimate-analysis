{
 "cells": [
  {
   "cell_type": "code",
   "execution_count": 1,
   "id": "ba634496",
   "metadata": {
    "execution": {
     "iopub.execute_input": "2025-01-25T21:28:44.088899Z",
     "iopub.status.busy": "2025-01-25T21:28:44.088495Z",
     "iopub.status.idle": "2025-01-25T21:29:02.337913Z",
     "shell.execute_reply": "2025-01-25T21:29:02.336733Z"
    },
    "papermill": {
     "duration": 18.256525,
     "end_time": "2025-01-25T21:29:02.339626",
     "exception": false,
     "start_time": "2025-01-25T21:28:44.083101",
     "status": "completed"
    },
    "tags": []
   },
   "outputs": [
    {
     "name": "stdout",
     "output_type": "stream",
     "text": [
      "[nltk_data] Downloading package stopwords to /usr/share/nltk_data...\n",
      "[nltk_data]   Package stopwords is already up-to-date!\n",
      "[nltk_data] Downloading package punkt to /usr/share/nltk_data...\n",
      "[nltk_data]   Package punkt is already up-to-date!\n"
     ]
    },
    {
     "data": {
      "text/plain": [
       "True"
      ]
     },
     "execution_count": 1,
     "metadata": {},
     "output_type": "execute_result"
    }
   ],
   "source": [
    "import re\n",
    "import numpy as np\n",
    "import pandas as pd\n",
    "import nltk\n",
    "from nltk.corpus import stopwords\n",
    "from nltk.tokenize import word_tokenize\n",
    "from sklearn.feature_extraction.text import TfidfVectorizer\n",
    "from sklearn.model_selection import train_test_split\n",
    "from keras.models import Sequential\n",
    "from keras.layers import Dense, Dropout, BatchNormalization\n",
    "from keras.optimizers import Adam\n",
    "from sklearn.metrics import confusion_matrix, roc_auc_score\n",
    "import joblib\n",
    "\n",
    "nltk.download('stopwords')\n",
    "nltk.download('punkt')"
   ]
  },
  {
   "cell_type": "code",
   "execution_count": 2,
   "id": "4cb1f4fe",
   "metadata": {
    "execution": {
     "iopub.execute_input": "2025-01-25T21:29:02.349164Z",
     "iopub.status.busy": "2025-01-25T21:29:02.348474Z",
     "iopub.status.idle": "2025-01-25T21:29:03.844482Z",
     "shell.execute_reply": "2025-01-25T21:29:03.843536Z"
    },
    "papermill": {
     "duration": 1.502735,
     "end_time": "2025-01-25T21:29:03.846448",
     "exception": false,
     "start_time": "2025-01-25T21:29:02.343713",
     "status": "completed"
    },
    "tags": []
   },
   "outputs": [],
   "source": [
    "# Load dataset\n",
    "train = pd.read_csv(\"/kaggle/input/imdb-dataset-sentiment-analysis-in-csv-format/Train.csv\")\n",
    "valid = pd.read_csv(\"/kaggle/input/imdb-dataset-sentiment-analysis-in-csv-format/Valid.csv\")\n",
    "test = pd.read_csv(\"/kaggle/input/imdb-dataset-sentiment-analysis-in-csv-format/Test.csv\")"
   ]
  },
  {
   "cell_type": "code",
   "execution_count": 3,
   "id": "cf894c6b",
   "metadata": {
    "execution": {
     "iopub.execute_input": "2025-01-25T21:29:03.855432Z",
     "iopub.status.busy": "2025-01-25T21:29:03.855088Z",
     "iopub.status.idle": "2025-01-25T21:29:03.860164Z",
     "shell.execute_reply": "2025-01-25T21:29:03.859217Z"
    },
    "papermill": {
     "duration": 0.011454,
     "end_time": "2025-01-25T21:29:03.861897",
     "exception": false,
     "start_time": "2025-01-25T21:29:03.850443",
     "status": "completed"
    },
    "tags": []
   },
   "outputs": [],
   "source": [
    "# Function for text preprocessing\n",
    "def clean_text(text):\n",
    "    text = text.lower()\n",
    "    text = re.sub(r'[^a-zA-Z]', ' ', text)  # Remove numbers and punctuation\n",
    "    tokens = word_tokenize(text)\n",
    "    stop_words = set(stopwords.words('english'))\n",
    "    tokens = [word for word in tokens if word not in stop_words]\n",
    "    return \" \".join(tokens)"
   ]
  },
  {
   "cell_type": "code",
   "execution_count": 4,
   "id": "ee2447e7",
   "metadata": {
    "execution": {
     "iopub.execute_input": "2025-01-25T21:29:03.870744Z",
     "iopub.status.busy": "2025-01-25T21:29:03.870334Z",
     "iopub.status.idle": "2025-01-25T21:30:04.458911Z",
     "shell.execute_reply": "2025-01-25T21:30:04.457879Z"
    },
    "papermill": {
     "duration": 60.595349,
     "end_time": "2025-01-25T21:30:04.461094",
     "exception": false,
     "start_time": "2025-01-25T21:29:03.865745",
     "status": "completed"
    },
    "tags": []
   },
   "outputs": [],
   "source": [
    "train['text'] = train['text'].apply(clean_text)\n",
    "valid['text'] = valid['text'].apply(clean_text)\n",
    "test['text'] = test['text'].apply(clean_text)"
   ]
  },
  {
   "cell_type": "code",
   "execution_count": 5,
   "id": "1991336f",
   "metadata": {
    "execution": {
     "iopub.execute_input": "2025-01-25T21:30:04.470349Z",
     "iopub.status.busy": "2025-01-25T21:30:04.470000Z",
     "iopub.status.idle": "2025-01-25T21:30:30.013744Z",
     "shell.execute_reply": "2025-01-25T21:30:30.012673Z"
    },
    "papermill": {
     "duration": 25.550404,
     "end_time": "2025-01-25T21:30:30.015584",
     "exception": false,
     "start_time": "2025-01-25T21:30:04.465180",
     "status": "completed"
    },
    "tags": []
   },
   "outputs": [],
   "source": [
    "# Feature Engineering using TF-IDF\n",
    "vectorizer = TfidfVectorizer(ngram_range=(1,2), max_features=5000)\n",
    "X_train = vectorizer.fit_transform(train['text'])\n",
    "X_valid = vectorizer.transform(valid['text'])\n",
    "X_test = vectorizer.transform(test['text'])"
   ]
  },
  {
   "cell_type": "code",
   "execution_count": 6,
   "id": "c8ec2343",
   "metadata": {
    "execution": {
     "iopub.execute_input": "2025-01-25T21:30:30.024932Z",
     "iopub.status.busy": "2025-01-25T21:30:30.024415Z",
     "iopub.status.idle": "2025-01-25T21:30:30.029448Z",
     "shell.execute_reply": "2025-01-25T21:30:30.028431Z"
    },
    "papermill": {
     "duration": 0.011718,
     "end_time": "2025-01-25T21:30:30.031377",
     "exception": false,
     "start_time": "2025-01-25T21:30:30.019659",
     "status": "completed"
    },
    "tags": []
   },
   "outputs": [],
   "source": [
    "y_train = train['label'].values\n",
    "y_valid = valid['label'].values\n",
    "y_test = test['label'].values"
   ]
  },
  {
   "cell_type": "code",
   "execution_count": 7,
   "id": "b6fad9c9",
   "metadata": {
    "execution": {
     "iopub.execute_input": "2025-01-25T21:30:30.040271Z",
     "iopub.status.busy": "2025-01-25T21:30:30.039923Z",
     "iopub.status.idle": "2025-01-25T21:30:30.185811Z",
     "shell.execute_reply": "2025-01-25T21:30:30.184530Z"
    },
    "papermill": {
     "duration": 0.152765,
     "end_time": "2025-01-25T21:30:30.188039",
     "exception": false,
     "start_time": "2025-01-25T21:30:30.035274",
     "status": "completed"
    },
    "tags": []
   },
   "outputs": [
    {
     "name": "stderr",
     "output_type": "stream",
     "text": [
      "/usr/local/lib/python3.10/dist-packages/keras/src/layers/core/dense.py:87: UserWarning: Do not pass an `input_shape`/`input_dim` argument to a layer. When using Sequential models, prefer using an `Input(shape)` object as the first layer in the model instead.\n",
      "  super().__init__(activity_regularizer=activity_regularizer, **kwargs)\n"
     ]
    }
   ],
   "source": [
    "# Neural Network Model with Batch Normalization and Dropout\n",
    "model = Sequential([\n",
    "    Dense(128, activation='relu', input_dim=X_train.shape[1]),\n",
    "    BatchNormalization(),\n",
    "    Dropout(0.4),\n",
    "    Dense(64, activation='relu'),\n",
    "    BatchNormalization(),\n",
    "    Dropout(0.3),\n",
    "    Dense(32, activation='relu'),\n",
    "    Dropout(0.2),\n",
    "    Dense(1, activation='sigmoid')\n",
    "])"
   ]
  },
  {
   "cell_type": "code",
   "execution_count": 8,
   "id": "5b777b01",
   "metadata": {
    "execution": {
     "iopub.execute_input": "2025-01-25T21:30:30.197281Z",
     "iopub.status.busy": "2025-01-25T21:30:30.196900Z",
     "iopub.status.idle": "2025-01-25T21:30:30.211541Z",
     "shell.execute_reply": "2025-01-25T21:30:30.210351Z"
    },
    "papermill": {
     "duration": 0.021523,
     "end_time": "2025-01-25T21:30:30.213588",
     "exception": false,
     "start_time": "2025-01-25T21:30:30.192065",
     "status": "completed"
    },
    "tags": []
   },
   "outputs": [],
   "source": [
    "model.compile(loss='binary_crossentropy', optimizer=Adam(learning_rate=0.0005), metrics=['accuracy'])"
   ]
  },
  {
   "cell_type": "code",
   "execution_count": 9,
   "id": "82322ee9",
   "metadata": {
    "execution": {
     "iopub.execute_input": "2025-01-25T21:30:30.222740Z",
     "iopub.status.busy": "2025-01-25T21:30:30.222394Z",
     "iopub.status.idle": "2025-01-25T21:31:24.587762Z",
     "shell.execute_reply": "2025-01-25T21:31:24.586835Z"
    },
    "papermill": {
     "duration": 54.372003,
     "end_time": "2025-01-25T21:31:24.589650",
     "exception": false,
     "start_time": "2025-01-25T21:30:30.217647",
     "status": "completed"
    },
    "tags": []
   },
   "outputs": [
    {
     "name": "stdout",
     "output_type": "stream",
     "text": [
      "Epoch 1/10\n",
      "\u001b[1m625/625\u001b[0m \u001b[32m━━━━━━━━━━━━━━━━━━━━\u001b[0m\u001b[37m\u001b[0m \u001b[1m8s\u001b[0m 8ms/step - accuracy: 0.7204 - loss: 0.5399 - val_accuracy: 0.8848 - val_loss: 0.2952\n",
      "Epoch 2/10\n",
      "\u001b[1m625/625\u001b[0m \u001b[32m━━━━━━━━━━━━━━━━━━━━\u001b[0m\u001b[37m\u001b[0m \u001b[1m5s\u001b[0m 8ms/step - accuracy: 0.8969 - loss: 0.2542 - val_accuracy: 0.8854 - val_loss: 0.2758\n",
      "Epoch 3/10\n",
      "\u001b[1m625/625\u001b[0m \u001b[32m━━━━━━━━━━━━━━━━━━━━\u001b[0m\u001b[37m\u001b[0m \u001b[1m5s\u001b[0m 8ms/step - accuracy: 0.9181 - loss: 0.2075 - val_accuracy: 0.8806 - val_loss: 0.2882\n",
      "Epoch 4/10\n",
      "\u001b[1m625/625\u001b[0m \u001b[32m━━━━━━━━━━━━━━━━━━━━\u001b[0m\u001b[37m\u001b[0m \u001b[1m5s\u001b[0m 8ms/step - accuracy: 0.9366 - loss: 0.1634 - val_accuracy: 0.8774 - val_loss: 0.3096\n",
      "Epoch 5/10\n",
      "\u001b[1m625/625\u001b[0m \u001b[32m━━━━━━━━━━━━━━━━━━━━\u001b[0m\u001b[37m\u001b[0m \u001b[1m5s\u001b[0m 8ms/step - accuracy: 0.9518 - loss: 0.1269 - val_accuracy: 0.8778 - val_loss: 0.3614\n",
      "Epoch 6/10\n",
      "\u001b[1m625/625\u001b[0m \u001b[32m━━━━━━━━━━━━━━━━━━━━\u001b[0m\u001b[37m\u001b[0m \u001b[1m5s\u001b[0m 8ms/step - accuracy: 0.9652 - loss: 0.0936 - val_accuracy: 0.8706 - val_loss: 0.4231\n",
      "Epoch 7/10\n",
      "\u001b[1m625/625\u001b[0m \u001b[32m━━━━━━━━━━━━━━━━━━━━\u001b[0m\u001b[37m\u001b[0m \u001b[1m5s\u001b[0m 8ms/step - accuracy: 0.9749 - loss: 0.0710 - val_accuracy: 0.8756 - val_loss: 0.4376\n",
      "Epoch 8/10\n",
      "\u001b[1m625/625\u001b[0m \u001b[32m━━━━━━━━━━━━━━━━━━━━\u001b[0m\u001b[37m\u001b[0m \u001b[1m5s\u001b[0m 8ms/step - accuracy: 0.9779 - loss: 0.0597 - val_accuracy: 0.8756 - val_loss: 0.4734\n",
      "Epoch 9/10\n",
      "\u001b[1m625/625\u001b[0m \u001b[32m━━━━━━━━━━━━━━━━━━━━\u001b[0m\u001b[37m\u001b[0m \u001b[1m5s\u001b[0m 8ms/step - accuracy: 0.9835 - loss: 0.0511 - val_accuracy: 0.8776 - val_loss: 0.4905\n",
      "Epoch 10/10\n",
      "\u001b[1m625/625\u001b[0m \u001b[32m━━━━━━━━━━━━━━━━━━━━\u001b[0m\u001b[37m\u001b[0m \u001b[1m5s\u001b[0m 8ms/step - accuracy: 0.9849 - loss: 0.0461 - val_accuracy: 0.8776 - val_loss: 0.4821\n"
     ]
    }
   ],
   "source": [
    "# Train Model\n",
    "history = model.fit(X_train, y_train, validation_data=(X_valid, y_valid), epochs=10, batch_size=64, verbose=1)"
   ]
  },
  {
   "cell_type": "code",
   "execution_count": 10,
   "id": "c2fd12ab",
   "metadata": {
    "execution": {
     "iopub.execute_input": "2025-01-25T21:31:24.701179Z",
     "iopub.status.busy": "2025-01-25T21:31:24.700766Z",
     "iopub.status.idle": "2025-01-25T21:31:25.212044Z",
     "shell.execute_reply": "2025-01-25T21:31:25.210918Z"
    },
    "papermill": {
     "duration": 0.568233,
     "end_time": "2025-01-25T21:31:25.213725",
     "exception": false,
     "start_time": "2025-01-25T21:31:24.645492",
     "status": "completed"
    },
    "tags": []
   },
   "outputs": [
    {
     "name": "stdout",
     "output_type": "stream",
     "text": [
      "Test Accuracy: 88.30%\n"
     ]
    }
   ],
   "source": [
    "# Evaluate Model\n",
    "loss, acc = model.evaluate(X_test, y_test, verbose=0)\n",
    "print(f'Test Accuracy: {acc * 100:.2f}%')"
   ]
  },
  {
   "cell_type": "code",
   "execution_count": 11,
   "id": "27eb40e6",
   "metadata": {
    "execution": {
     "iopub.execute_input": "2025-01-25T21:31:25.325003Z",
     "iopub.status.busy": "2025-01-25T21:31:25.324575Z",
     "iopub.status.idle": "2025-01-25T21:31:26.143313Z",
     "shell.execute_reply": "2025-01-25T21:31:26.142081Z"
    },
    "papermill": {
     "duration": 0.875561,
     "end_time": "2025-01-25T21:31:26.145205",
     "exception": false,
     "start_time": "2025-01-25T21:31:25.269644",
     "status": "completed"
    },
    "tags": []
   },
   "outputs": [
    {
     "name": "stdout",
     "output_type": "stream",
     "text": [
      "\u001b[1m157/157\u001b[0m \u001b[32m━━━━━━━━━━━━━━━━━━━━\u001b[0m\u001b[37m\u001b[0m \u001b[1m1s\u001b[0m 3ms/step\n",
      "Confusion Matrix:\n",
      " [[2162  333]\n",
      " [ 252 2253]]\n",
      "AUC Score: 0.8829671318685276\n"
     ]
    }
   ],
   "source": [
    "# Confusion Matrix & AUC Score\n",
    "y_pred = (model.predict(X_test) > 0.5).astype('int32')\n",
    "cm = confusion_matrix(y_test, y_pred)\n",
    "auc = roc_auc_score(y_test, y_pred)\n",
    "print(\"Confusion Matrix:\\n\", cm)\n",
    "print(\"AUC Score:\", auc)"
   ]
  },
  {
   "cell_type": "code",
   "execution_count": 12,
   "id": "4300a24c",
   "metadata": {
    "execution": {
     "iopub.execute_input": "2025-01-25T21:31:26.257533Z",
     "iopub.status.busy": "2025-01-25T21:31:26.257111Z",
     "iopub.status.idle": "2025-01-25T21:31:26.434553Z",
     "shell.execute_reply": "2025-01-25T21:31:26.433420Z"
    },
    "papermill": {
     "duration": 0.234808,
     "end_time": "2025-01-25T21:31:26.436243",
     "exception": false,
     "start_time": "2025-01-25T21:31:26.201435",
     "status": "completed"
    },
    "tags": []
   },
   "outputs": [
    {
     "name": "stdout",
     "output_type": "stream",
     "text": [
      "\u001b[1m1/1\u001b[0m \u001b[32m━━━━━━━━━━━━━━━━━━━━\u001b[0m\u001b[37m\u001b[0m \u001b[1m0s\u001b[0m 42ms/step\n",
      "Predictions: [1 0]\n"
     ]
    }
   ],
   "source": [
    "# Making Predictions\n",
    "example_texts = [\"This movie was fantastic!\", \"Absolutely terrible film, never watching again\"]\n",
    "example_transformed = vectorizer.transform(example_texts)\n",
    "predictions = (model.predict(example_transformed) > 0.5).astype('int32')\n",
    "print(\"Predictions:\", predictions.flatten())"
   ]
  },
  {
   "cell_type": "code",
   "execution_count": 13,
   "id": "6cfc905f",
   "metadata": {
    "execution": {
     "iopub.execute_input": "2025-01-25T21:31:26.547238Z",
     "iopub.status.busy": "2025-01-25T21:31:26.546873Z",
     "iopub.status.idle": "2025-01-25T21:31:37.285523Z",
     "shell.execute_reply": "2025-01-25T21:31:37.284469Z"
    },
    "papermill": {
     "duration": 10.796085,
     "end_time": "2025-01-25T21:31:37.287131",
     "exception": false,
     "start_time": "2025-01-25T21:31:26.491046",
     "status": "completed"
    },
    "tags": []
   },
   "outputs": [
    {
     "data": {
      "text/plain": [
       "['vectorizer.pkl']"
      ]
     },
     "execution_count": 13,
     "metadata": {},
     "output_type": "execute_result"
    }
   ],
   "source": [
    "# Save the vectorizer\n",
    "joblib.dump(vectorizer, 'vectorizer.pkl')"
   ]
  },
  {
   "cell_type": "code",
   "execution_count": 14,
   "id": "286acf77",
   "metadata": {
    "execution": {
     "iopub.execute_input": "2025-01-25T21:31:37.397948Z",
     "iopub.status.busy": "2025-01-25T21:31:37.397536Z",
     "iopub.status.idle": "2025-01-25T21:31:37.455444Z",
     "shell.execute_reply": "2025-01-25T21:31:37.454523Z"
    },
    "papermill": {
     "duration": 0.11585,
     "end_time": "2025-01-25T21:31:37.457461",
     "exception": false,
     "start_time": "2025-01-25T21:31:37.341611",
     "status": "completed"
    },
    "tags": []
   },
   "outputs": [],
   "source": [
    "# Save the model and weights\n",
    "model.save(\"sentiment_model.h5\")"
   ]
  }
 ],
 "metadata": {
  "kaggle": {
   "accelerator": "none",
   "dataSources": [
    {
     "datasetId": 429163,
     "sourceId": 816060,
     "sourceType": "datasetVersion"
    }
   ],
   "dockerImageVersionId": 30839,
   "isGpuEnabled": false,
   "isInternetEnabled": true,
   "language": "python",
   "sourceType": "notebook"
  },
  "kernelspec": {
   "display_name": "Python 3",
   "language": "python",
   "name": "python3"
  },
  "language_info": {
   "codemirror_mode": {
    "name": "ipython",
    "version": 3
   },
   "file_extension": ".py",
   "mimetype": "text/x-python",
   "name": "python",
   "nbconvert_exporter": "python",
   "pygments_lexer": "ipython3",
   "version": "3.10.12"
  },
  "papermill": {
   "default_parameters": {},
   "duration": 178.396425,
   "end_time": "2025-01-25T21:31:39.739284",
   "environment_variables": {},
   "exception": null,
   "input_path": "__notebook__.ipynb",
   "output_path": "__notebook__.ipynb",
   "parameters": {},
   "start_time": "2025-01-25T21:28:41.342859",
   "version": "2.6.0"
  }
 },
 "nbformat": 4,
 "nbformat_minor": 5
}
